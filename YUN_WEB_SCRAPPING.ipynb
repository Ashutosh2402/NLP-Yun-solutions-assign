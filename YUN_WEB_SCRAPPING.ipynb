{
  "nbformat": 4,
  "nbformat_minor": 0,
  "metadata": {
    "colab": {
      "provenance": []
    },
    "kernelspec": {
      "name": "python3",
      "display_name": "Python 3"
    },
    "language_info": {
      "name": "python"
    }
  },
  "cells": [
    {
      "cell_type": "code",
      "execution_count": 3,
      "metadata": {
        "id": "DTfilr0iPKSL",
        "colab": {
          "base_uri": "https://localhost:8080/",
          "height": 73
        },
        "outputId": "206410b9-ca39-4422-d7c3-d6995d799194"
      },
      "outputs": [
        {
          "output_type": "display_data",
          "data": {
            "text/plain": [
              "<IPython.core.display.HTML object>"
            ],
            "text/html": [
              "\n",
              "     <input type=\"file\" id=\"files-20904361-90bf-42b8-a667-9a2a46762040\" name=\"files[]\" multiple disabled\n",
              "        style=\"border:none\" />\n",
              "     <output id=\"result-20904361-90bf-42b8-a667-9a2a46762040\">\n",
              "      Upload widget is only available when the cell has been executed in the\n",
              "      current browser session. Please rerun this cell to enable.\n",
              "      </output>\n",
              "      <script>// Copyright 2017 Google LLC\n",
              "//\n",
              "// Licensed under the Apache License, Version 2.0 (the \"License\");\n",
              "// you may not use this file except in compliance with the License.\n",
              "// You may obtain a copy of the License at\n",
              "//\n",
              "//      http://www.apache.org/licenses/LICENSE-2.0\n",
              "//\n",
              "// Unless required by applicable law or agreed to in writing, software\n",
              "// distributed under the License is distributed on an \"AS IS\" BASIS,\n",
              "// WITHOUT WARRANTIES OR CONDITIONS OF ANY KIND, either express or implied.\n",
              "// See the License for the specific language governing permissions and\n",
              "// limitations under the License.\n",
              "\n",
              "/**\n",
              " * @fileoverview Helpers for google.colab Python module.\n",
              " */\n",
              "(function(scope) {\n",
              "function span(text, styleAttributes = {}) {\n",
              "  const element = document.createElement('span');\n",
              "  element.textContent = text;\n",
              "  for (const key of Object.keys(styleAttributes)) {\n",
              "    element.style[key] = styleAttributes[key];\n",
              "  }\n",
              "  return element;\n",
              "}\n",
              "\n",
              "// Max number of bytes which will be uploaded at a time.\n",
              "const MAX_PAYLOAD_SIZE = 100 * 1024;\n",
              "\n",
              "function _uploadFiles(inputId, outputId) {\n",
              "  const steps = uploadFilesStep(inputId, outputId);\n",
              "  const outputElement = document.getElementById(outputId);\n",
              "  // Cache steps on the outputElement to make it available for the next call\n",
              "  // to uploadFilesContinue from Python.\n",
              "  outputElement.steps = steps;\n",
              "\n",
              "  return _uploadFilesContinue(outputId);\n",
              "}\n",
              "\n",
              "// This is roughly an async generator (not supported in the browser yet),\n",
              "// where there are multiple asynchronous steps and the Python side is going\n",
              "// to poll for completion of each step.\n",
              "// This uses a Promise to block the python side on completion of each step,\n",
              "// then passes the result of the previous step as the input to the next step.\n",
              "function _uploadFilesContinue(outputId) {\n",
              "  const outputElement = document.getElementById(outputId);\n",
              "  const steps = outputElement.steps;\n",
              "\n",
              "  const next = steps.next(outputElement.lastPromiseValue);\n",
              "  return Promise.resolve(next.value.promise).then((value) => {\n",
              "    // Cache the last promise value to make it available to the next\n",
              "    // step of the generator.\n",
              "    outputElement.lastPromiseValue = value;\n",
              "    return next.value.response;\n",
              "  });\n",
              "}\n",
              "\n",
              "/**\n",
              " * Generator function which is called between each async step of the upload\n",
              " * process.\n",
              " * @param {string} inputId Element ID of the input file picker element.\n",
              " * @param {string} outputId Element ID of the output display.\n",
              " * @return {!Iterable<!Object>} Iterable of next steps.\n",
              " */\n",
              "function* uploadFilesStep(inputId, outputId) {\n",
              "  const inputElement = document.getElementById(inputId);\n",
              "  inputElement.disabled = false;\n",
              "\n",
              "  const outputElement = document.getElementById(outputId);\n",
              "  outputElement.innerHTML = '';\n",
              "\n",
              "  const pickedPromise = new Promise((resolve) => {\n",
              "    inputElement.addEventListener('change', (e) => {\n",
              "      resolve(e.target.files);\n",
              "    });\n",
              "  });\n",
              "\n",
              "  const cancel = document.createElement('button');\n",
              "  inputElement.parentElement.appendChild(cancel);\n",
              "  cancel.textContent = 'Cancel upload';\n",
              "  const cancelPromise = new Promise((resolve) => {\n",
              "    cancel.onclick = () => {\n",
              "      resolve(null);\n",
              "    };\n",
              "  });\n",
              "\n",
              "  // Wait for the user to pick the files.\n",
              "  const files = yield {\n",
              "    promise: Promise.race([pickedPromise, cancelPromise]),\n",
              "    response: {\n",
              "      action: 'starting',\n",
              "    }\n",
              "  };\n",
              "\n",
              "  cancel.remove();\n",
              "\n",
              "  // Disable the input element since further picks are not allowed.\n",
              "  inputElement.disabled = true;\n",
              "\n",
              "  if (!files) {\n",
              "    return {\n",
              "      response: {\n",
              "        action: 'complete',\n",
              "      }\n",
              "    };\n",
              "  }\n",
              "\n",
              "  for (const file of files) {\n",
              "    const li = document.createElement('li');\n",
              "    li.append(span(file.name, {fontWeight: 'bold'}));\n",
              "    li.append(span(\n",
              "        `(${file.type || 'n/a'}) - ${file.size} bytes, ` +\n",
              "        `last modified: ${\n",
              "            file.lastModifiedDate ? file.lastModifiedDate.toLocaleDateString() :\n",
              "                                    'n/a'} - `));\n",
              "    const percent = span('0% done');\n",
              "    li.appendChild(percent);\n",
              "\n",
              "    outputElement.appendChild(li);\n",
              "\n",
              "    const fileDataPromise = new Promise((resolve) => {\n",
              "      const reader = new FileReader();\n",
              "      reader.onload = (e) => {\n",
              "        resolve(e.target.result);\n",
              "      };\n",
              "      reader.readAsArrayBuffer(file);\n",
              "    });\n",
              "    // Wait for the data to be ready.\n",
              "    let fileData = yield {\n",
              "      promise: fileDataPromise,\n",
              "      response: {\n",
              "        action: 'continue',\n",
              "      }\n",
              "    };\n",
              "\n",
              "    // Use a chunked sending to avoid message size limits. See b/62115660.\n",
              "    let position = 0;\n",
              "    do {\n",
              "      const length = Math.min(fileData.byteLength - position, MAX_PAYLOAD_SIZE);\n",
              "      const chunk = new Uint8Array(fileData, position, length);\n",
              "      position += length;\n",
              "\n",
              "      const base64 = btoa(String.fromCharCode.apply(null, chunk));\n",
              "      yield {\n",
              "        response: {\n",
              "          action: 'append',\n",
              "          file: file.name,\n",
              "          data: base64,\n",
              "        },\n",
              "      };\n",
              "\n",
              "      let percentDone = fileData.byteLength === 0 ?\n",
              "          100 :\n",
              "          Math.round((position / fileData.byteLength) * 100);\n",
              "      percent.textContent = `${percentDone}% done`;\n",
              "\n",
              "    } while (position < fileData.byteLength);\n",
              "  }\n",
              "\n",
              "  // All done.\n",
              "  yield {\n",
              "    response: {\n",
              "      action: 'complete',\n",
              "    }\n",
              "  };\n",
              "}\n",
              "\n",
              "scope.google = scope.google || {};\n",
              "scope.google.colab = scope.google.colab || {};\n",
              "scope.google.colab._files = {\n",
              "  _uploadFiles,\n",
              "  _uploadFilesContinue,\n",
              "};\n",
              "})(self);\n",
              "</script> "
            ]
          },
          "metadata": {}
        },
        {
          "output_type": "stream",
          "name": "stdout",
          "text": [
            "Saving google ril.txt to google ril.txt\n"
          ]
        }
      ],
      "source": [
        "from google.colab import files\n",
        "\n",
        "\n",
        "uploaded = files.upload()\n"
      ]
    },
    {
      "cell_type": "code",
      "source": [
        "import requests\n",
        "from bs4 import BeautifulSoup\n",
        "\n"
      ],
      "metadata": {
        "id": "P1qCJydgQK2U"
      },
      "execution_count": 1,
      "outputs": []
    },
    {
      "cell_type": "code",
      "source": [
        "def extract_headlines_and_text(url):\n",
        "    try:\n",
        "        response = requests.get(url)\n",
        "        if response.status_code == 200:\n",
        "            soup = BeautifulSoup(response.content, 'html.parser')\n",
        "            # Extracting headlines from <h1> and <h2> tags\n",
        "            h1_headlines = [h1.text.strip() for h1 in soup.find_all('h1')]\n",
        "            h2_headlines = [h2.text.strip() for h2 in soup.find_all('h2')]\n",
        "            # Extracting text from the webpage\n",
        "            article_text = soup.get_text(separator='\\n').strip()\n",
        "            return h1_headlines, h2_headlines, article_text\n",
        "        else:\n",
        "            print(f\"Failed to fetch {url}. Status code: {response.status_code}\")\n",
        "            return None, None, None\n",
        "    except Exception as e:\n",
        "        #print(f\"Error scraping {url}: {str(e)}\")\n",
        "        return None, None, None\n",
        "\n",
        "# Read URLs from the text file\n",
        "file_path = \"google ril.txt\"  # Path to the text file containing URLs\n",
        "with open(file_path, 'r') as file:\n",
        "    urls = file.read().splitlines()\n",
        "\n",
        "# Creating a dictionary to store scraped data\n",
        "scraped_data = {}\n",
        "\n",
        "\n",
        "for url in urls:\n",
        "    h1_headlines, h2_headlines, article_text = extract_headlines_and_text(url)\n",
        "    if h1_headlines and h2_headlines and article_text:\n",
        "        scraped_data[url] = {\"h1_headlines\": h1_headlines, \"h2_headlines\": h2_headlines, \"article_text\": article_text}\n",
        "\n",
        "# Printing the scraped data but only the headlines, although texts are getting saved in dictionary\n",
        "for source, data in scraped_data.items():\n",
        "    print(f\"Source: {source}\")\n",
        "    print(\"H1 Headlines:\")\n",
        "    for idx, headline in enumerate(data[\"h1_headlines\"], start=1):\n",
        "        print(f\"{idx}. {headline}\")\n",
        "    print(\"H2 Headlines:\")\n",
        "    for idx, headline in enumerate(data[\"h2_headlines\"], start=1):\n",
        "        print(f\"{idx}. {headline}\")\n",
        "    #print(\"Article Text:\")\n",
        "    #print(data[\"article_text\"])\n",
        "    print(\"----------------------------------------\")\n"
      ],
      "metadata": {
        "colab": {
          "base_uri": "https://localhost:8080/"
        },
        "id": "bbPuHw4LmvFA",
        "outputId": "c22d7d91-f1f5-4b20-d1e7-6f8ad6bf6f05"
      },
      "execution_count": 20,
      "outputs": [
        {
          "output_type": "stream",
          "name": "stdout",
          "text": [
            "Failed to fetch https://www.bseindia.com/stock-share-price/reliance-industries-ltd/reliance/500325/. Status code: 404\n",
            "Source: https://www.ril.com\n",
            "H1 Headlines:\n",
            "1. Growth is Life\n",
            "H2 Headlines:\n",
            "1. Reliance Industries Limited is a Fortune 500® company and the largest private sector corporation in India.\n",
            "2. Energy\n",
            "3. Energy\n",
            "4. Petrochemicals\n",
            "5. Petrochemicals\n",
            "6. Retail\n",
            "7. Retail\n",
            "8. Digital Services - Jio\n",
            "9. Digital Services - Jio\n",
            "10. New Energy\n",
            "11. New Energy\n",
            "12. Media & Entertainment\n",
            "13. Media & Entertainment\n",
            "14. Announcements\n",
            "15. Investors\n",
            "16. Investors\n",
            "17. Life at Reliance\n",
            "18. Footer menu\n",
            "19. Footer Last\n",
            "----------------------------------------\n",
            "Source: https://en.wikipedia.org/wiki/Reliance_Industries\n",
            "H1 Headlines:\n",
            "1. Reliance Industries\n",
            "H2 Headlines:\n",
            "1. Contents\n",
            "2. History[edit]\n",
            "3. Shareholding[edit]\n",
            "4. Operations[edit]\n",
            "5. Subsidiaries[edit]\n",
            "6. Awards and recognition[edit]\n",
            "7. Reliance demerger and family feud[edit]\n",
            "8. Criticism and controversies[edit]\n",
            "9. See also[edit]\n",
            "10. References[edit]\n",
            "11. Further reading[edit]\n",
            "12. External links[edit]\n",
            "----------------------------------------\n",
            "Source: https://timesofindia.indiatimes.com/india/2-qwik-supply-directors-linked-to-reliance-entities-not-subsidiary-ril/articleshow/108534060.cms\n",
            "H1 Headlines:\n",
            "1. 2 Qwik Supply directors linked to Reliance entities; not subsidiary: RIL\n",
            "H2 Headlines:\n",
            "1. TOI\n",
            "2. Visual Stories\n",
            "3. Trending Stories\n",
            "----------------------------------------\n",
            "Source: https://www.livemint.com/news/india/electoral-bonds-data-reliance-denies-link-to-3rd-largest-donor-qwik-supply-11710508411402.html\n",
            "H1 Headlines:\n",
            "1. Electoral bonds data: Reliance denies link to third largest donor Qwik Supply\n",
            "H2 Headlines:\n",
            "1. Electoral bonds data: The development came a day after Qwik Supply Chain was ranked as the third largest donor to political parties using electoral bonds on a list released by the Election Commission of India.\n",
            "2. Electoral Bonds Data Live updates\n",
            "3. Reliance Industries-Qwik Supply Chain link\n",
            "----------------------------------------\n",
            "Source: https://economictimes.indiatimes.com/news/elections/lok-sabha/india/electoral-bonds-data-released-biggest-facts-that-were-revealed/reliance-linked-company-among-top-10/slideshow/108524430.cms?from=mdr\n",
            "H1 Headlines:\n",
            "1. Electoral bonds data released: Biggest facts that were revealed\n",
            "H2 Headlines:\n",
            "1. BJP got more donations than regional parties combined\n",
            "2. Future Gaming and Hotel Services top donor\n",
            "3. MEIL's donations\n",
            "4. Reliance-linked company among top 10?\n",
            "5. Electoral bonds: Other major donors\n",
            "6. Most Popular News\n",
            "7. Download ET App:\n",
            "----------------------------------------\n",
            "Source: https://www.telegraphindia.com/business/reliance-industries-buys-paramount-globals-13-per-cent-stake-in-viacom-for-rs-4286-crore/cid/2006984\n",
            "H1 Headlines:\n",
            "1. Reliance Industries buys Paramount Global's 13 per cent stake in Viacom for Rs 4,286 crore\n",
            "2. BJP got Rs 6,986.5 crore through poll bonds; Future Gaming top donor for DMK: EC data\n",
            "H2 Headlines:\n",
            "1. Reliance and Viacom18 will hold 63.16 per cent — 16.34 per cent by Reliance and 46.82 per cent by Viacom18 — and the rest by Disney\n",
            "2. YOU MAY ALSO LIKE\n",
            "3. EC advances counting date for Arunachal Pradesh, Sikkim assembly polls to June 2\n",
            "4. Strict action against perpetrators of violence: MEA on Gujarat University incident\n",
            "5. 7-phase election in Bengal is just evidence that Election Commission is a long arm of govt\n",
            "6. Cabinet meet: PM asks ministers to draft roadmap for first 100 days, next 5 years of new govt\n",
            "7. Lok Sabha seats to watch out for in J&K as it goes to its first major poll since Article 370 move\n",
            "8. IAF's C-17 aircraft executes precision airdrop in Arabian Sea, helps Navy seize hijacked vessel\n",
            "9. Virat Kohli back in India, joins RCB training camp ahead of IPL season\n",
            "10. Youtuber Elvish Yadav arrested by Noida Police in connection with snake venom case\n",
            "11. Foreign students attacked for offering namaz at Gujarat University; two hospitalised\n",
            "12. BJP makes noise, but doesn't have courage to 'change' Constitution: Congress leader Rahul Gandhi\n",
            "13. Resolved to reinforcing peace: Indian Navy after seizing hijacked ship from Somali pirates\n",
            "14. News\n",
            "15. More\n",
            "16. My Kolkata\n",
            "17. Edugraph\n",
            "18. Company\n",
            "19. Download the latest Telegraph app\n",
            "20. Follow us on\n",
            "21. Websites\n",
            "----------------------------------------\n",
            "Source: https://economictimes.indiatimes.com/markets/stocks/news/stocks-in-news-paytm-vedanta-iifl-finance-ril-blue-star/articleshow/108501383.cms?from=mdr\n",
            "H1 Headlines:\n",
            "1. Stocks in news: Paytm, Vedanta, IIFL Finance, RIL, Blue Star\n",
            "H2 Headlines:\n",
            "1. Vedanta's plan to demerge its businesses into separate entities could face hurdles from its minority shareholders and creditors, according to a Fitch Solutions report.\n",
            "2. Most Searched Stocks\n",
            "3. Download ET App:\n",
            "----------------------------------------\n",
            "Source: https://www.moneycontrol.com/india/stockpricequote/refineries/relianceindustries/RI\n",
            "H1 Headlines:\n",
            "1. Reliance Industries Ltd.\n",
            "2. Reliance Industries Ltd.\n",
            "H2 Headlines:\n",
            "1. #KnowBeforeYouInvest\n",
            "2. Advanced Chart\n",
            "3. Forecast\n",
            "4. MC Insights\n",
            "5. BIG SHARK INVESTORS\n",
            "6. MC Technicals\n",
            "7. Pivot levels\n",
            "8. Pivot levels\n",
            "9. Pivot levels\n",
            "10. Pivot levels\n",
            "11. Pivot levels\n",
            "12. Pivot levels\n",
            "13. SCANS\n",
            "14. Price and Volume\n",
            "15. News\n",
            "16. Forum\n",
            "17. Community Sentiments\n",
            "18. Broker Research\n",
            "19. Deals\n",
            "20. Insider Transaction Summary\n",
            "21. Corporate Action\n",
            "22. Financials\n",
            "23. Shareholding\n",
            "24. PEERS\n",
            "25. About the Company\n",
            "26. You got 30 Day’s Trial of\n",
            "----------------------------------------\n",
            "Source: https://www.bloomberg.com/profile/company/RIL:IN\n",
            "H1 Headlines:\n",
            "1. Bloomberg\n",
            "H2 Headlines:\n",
            "1. We've detected unusual activity from your computer network\n",
            "----------------------------------------\n",
            "Source: https://www.riil.in/\n",
            "H1 Headlines:\n",
            "1. Welcome to\n",
            "H2 Headlines:\n",
            "1. Reliance Industrial Infrastructure Limited\n",
            "----------------------------------------\n",
            "Source: https://groww.in/stocks/reliance-industries-ltd\n",
            "H1 Headlines:\n",
            "1. Reliance Industries\n",
            "H2 Headlines:\n",
            "1. Performance\n",
            "2. Analyst Estimates\n",
            "3. Fundamentals\n",
            "4. Financials\n",
            "5. About Reliance Industries\n",
            "6. Top Mutual Funds Invested(4)\n",
            "7. Similar Stocks\n",
            "----------------------------------------\n"
          ]
        }
      ]
    },
    {
      "cell_type": "code",
      "source": [
        "len(scraped_data)"
      ],
      "metadata": {
        "colab": {
          "base_uri": "https://localhost:8080/"
        },
        "id": "ygpZ2uMLvARn",
        "outputId": "64d0c3cf-c7a6-4975-aa69-86526a91f428"
      },
      "execution_count": 7,
      "outputs": [
        {
          "output_type": "execute_result",
          "data": {
            "text/plain": [
              "11"
            ]
          },
          "metadata": {},
          "execution_count": 7
        }
      ]
    },
    {
      "cell_type": "code",
      "source": [
        "#Saving the data as json file\n",
        "import json\n",
        "\n",
        "output_file = \"scraped_data.txt\"\n",
        "\n",
        "\n",
        "with open(output_file, 'w') as file:\n",
        "    json.dump(scraped_data, file)\n",
        "\n",
        "print(\"Scraped data saved to\", output_file)\n"
      ],
      "metadata": {
        "colab": {
          "base_uri": "https://localhost:8080/"
        },
        "id": "DYCRrNrYoQRS",
        "outputId": "73a7e984-050c-4edc-8a8f-bcabc74dc5a4"
      },
      "execution_count": 9,
      "outputs": [
        {
          "output_type": "stream",
          "name": "stdout",
          "text": [
            "Scraped data saved to scraped_data.txt\n"
          ]
        }
      ]
    },
    {
      "cell_type": "code",
      "source": [
        "\n",
        "with open(output_file, 'r') as file:\n",
        "    content = file.read()\n",
        "\n",
        "# Replace '\\n' with actual new lines\n",
        "content = content.replace('\\\\n', '\\n')\n",
        "content = content.replace('\\\\t','\\t')\n",
        "\n",
        "# Save the modified content back to the file\n",
        "with open(output_file, 'w') as file:\n",
        "    file.write(content)\n",
        "\n",
        "print(\"done\")\n"
      ],
      "metadata": {
        "colab": {
          "base_uri": "https://localhost:8080/"
        },
        "id": "wfJb_mBHxbKV",
        "outputId": "9370e475-2192-47cf-d96e-2298d57e9d1d"
      },
      "execution_count": 18,
      "outputs": [
        {
          "output_type": "stream",
          "name": "stdout",
          "text": [
            "done\n"
          ]
        }
      ]
    },
    {
      "cell_type": "code",
      "source": [
        "# There are multiple lines and the file is not looking too informative , so we will remove multiple lines\n",
        "\n",
        "import re\n",
        "\n",
        "\n",
        "with open(output_file, 'r') as file:\n",
        "    content = file.read()\n",
        "\n",
        "\n",
        "content = re.sub(r'(\\n)+', r'\\n', content)\n",
        "\n",
        "# Saving the modified content back to the file\n",
        "with open(output_file, 'w') as file:\n",
        "    file.write(content)\n",
        "\n",
        "print(\"done\")\n"
      ],
      "metadata": {
        "id": "VyDsRKbj47YG",
        "outputId": "f31ad7e1-a262-4a2b-aa8e-074e59acba0e",
        "colab": {
          "base_uri": "https://localhost:8080/"
        }
      },
      "execution_count": 16,
      "outputs": [
        {
          "output_type": "stream",
          "name": "stdout",
          "text": [
            "done\n"
          ]
        }
      ]
    },
    {
      "cell_type": "code",
      "source": [
        "files.download(output_file)"
      ],
      "metadata": {
        "id": "jQQtDE0D5Hd2",
        "outputId": "f6c93bcd-3d7b-4613-df2f-0c3592b4f08e",
        "colab": {
          "base_uri": "https://localhost:8080/",
          "height": 17
        }
      },
      "execution_count": 19,
      "outputs": [
        {
          "output_type": "display_data",
          "data": {
            "text/plain": [
              "<IPython.core.display.Javascript object>"
            ],
            "application/javascript": [
              "\n",
              "    async function download(id, filename, size) {\n",
              "      if (!google.colab.kernel.accessAllowed) {\n",
              "        return;\n",
              "      }\n",
              "      const div = document.createElement('div');\n",
              "      const label = document.createElement('label');\n",
              "      label.textContent = `Downloading \"${filename}\": `;\n",
              "      div.appendChild(label);\n",
              "      const progress = document.createElement('progress');\n",
              "      progress.max = size;\n",
              "      div.appendChild(progress);\n",
              "      document.body.appendChild(div);\n",
              "\n",
              "      const buffers = [];\n",
              "      let downloaded = 0;\n",
              "\n",
              "      const channel = await google.colab.kernel.comms.open(id);\n",
              "      // Send a message to notify the kernel that we're ready.\n",
              "      channel.send({})\n",
              "\n",
              "      for await (const message of channel.messages) {\n",
              "        // Send a message to notify the kernel that we're ready.\n",
              "        channel.send({})\n",
              "        if (message.buffers) {\n",
              "          for (const buffer of message.buffers) {\n",
              "            buffers.push(buffer);\n",
              "            downloaded += buffer.byteLength;\n",
              "            progress.value = downloaded;\n",
              "          }\n",
              "        }\n",
              "      }\n",
              "      const blob = new Blob(buffers, {type: 'application/binary'});\n",
              "      const a = document.createElement('a');\n",
              "      a.href = window.URL.createObjectURL(blob);\n",
              "      a.download = filename;\n",
              "      div.appendChild(a);\n",
              "      a.click();\n",
              "      div.remove();\n",
              "    }\n",
              "  "
            ]
          },
          "metadata": {}
        },
        {
          "output_type": "display_data",
          "data": {
            "text/plain": [
              "<IPython.core.display.Javascript object>"
            ],
            "application/javascript": [
              "download(\"download_882708ef-8878-4fe4-b314-e32d7c559ced\", \"scraped_data.txt\", 244682)"
            ]
          },
          "metadata": {}
        }
      ]
    },
    {
      "cell_type": "code",
      "source": [],
      "metadata": {
        "id": "7NNVde917e3P"
      },
      "execution_count": null,
      "outputs": []
    }
  ]
}